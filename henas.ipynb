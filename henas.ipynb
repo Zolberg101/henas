{
 "cells": [
  {
   "cell_type": "code",
   "execution_count": 2,
   "metadata": {
    "scrolled": false
   },
   "outputs": [
    {
     "name": "stdout",
     "output_type": "stream",
     "text": [
      "Looking in links: https://download.pytorch.org/whl/torch_stable.html\n",
      "Collecting torch===1.7.0+cu110\n",
      "  Downloading https://download.pytorch.org/whl/cu110/torch-1.7.0%2Bcu110-cp37-cp37m-win_amd64.whl (2046.8 MB)\n",
      "Collecting torchvision===0.8.1+cu110\n",
      "  Downloading https://download.pytorch.org/whl/cu110/torchvision-0.8.1%2Bcu110-cp37-cp37m-win_amd64.whl (1.6 MB)\n",
      "Collecting torchaudio===0.7.0\n",
      "  Downloading https://download.pytorch.org/whl/torchaudio-0.7.0-cp37-none-win_amd64.whl (103 kB)\n",
      "Requirement already satisfied: future in c:\\users\\dronz\\anaconda3\\envs\\tensorflow_env\\lib\\site-packages (from torch===1.7.0+cu110) (0.18.2)\n",
      "Collecting typing-extensions\n",
      "  Downloading typing_extensions-3.7.4.3-py3-none-any.whl (22 kB)\n",
      "Collecting dataclasses\n",
      "  Downloading dataclasses-0.6-py3-none-any.whl (14 kB)\n",
      "Requirement already satisfied: numpy in c:\\users\\dronz\\anaconda3\\envs\\tensorflow_env\\lib\\site-packages (from torch===1.7.0+cu110) (1.18.1)\n",
      "Requirement already satisfied: pillow>=4.1.1 in c:\\users\\dronz\\anaconda3\\envs\\tensorflow_env\\lib\\site-packages (from torchvision===0.8.1+cu110) (7.0.0)\n",
      "Installing collected packages: typing-extensions, dataclasses, torch, torchvision, torchaudio\n",
      "Successfully installed dataclasses-0.6 torch-1.7.0+cu110 torchaudio-0.7.0 torchvision-0.8.1+cu110 typing-extensions-3.7.4.3\n"
     ]
    }
   ],
   "source": [
    "#!pip install torch===1.7.0+cu110 torchvision===0.8.1+cu110 torchaudio===0.7.0 -f https://download.pytorch.org/whl/torch_stable.html"
   ]
  },
  {
   "cell_type": "code",
   "execution_count": 14,
   "metadata": {},
   "outputs": [],
   "source": [
    "import numpy as np\n",
    "import torch\n",
    "from torchvision import transforms\n",
    "from torchvision.datasets import CIFAR10\n",
    "from torchvision.datasets import CIFAR100\n",
    "from torchvision.datasets import MNIST\n",
    "import os, sys\n",
    "import warnings\n",
    "warnings.filterwarnings('ignore')"
   ]
  },
  {
   "cell_type": "code",
   "execution_count": 3,
   "metadata": {},
   "outputs": [],
   "source": [
    "def get_dataset(cls, cutout_length=0):\n",
    "    MEAN = [0.49139968, 0.48215827, 0.44653124]\n",
    "    STD = [0.24703233, 0.24348505, 0.26158768]\n",
    "    transf = [\n",
    "        transforms.RandomCrop(32, padding=4),\n",
    "        transforms.RandomHorizontalFlip()\n",
    "    ]\n",
    "    normalize = [\n",
    "        transforms.ToTensor(),\n",
    "        transforms.Normalize(MEAN, STD)\n",
    "    ]\n",
    "    cutout = []\n",
    "    if cutout_length > 0:\n",
    "        cutout.append(Cutout(cutout_length))\n",
    "\n",
    "    train_transform = transforms.Compose(transf + normalize + cutout)\n",
    "    valid_transform = transforms.Compose(normalize)\n",
    "\n",
    "    if cls == \"cifar10\":\n",
    "        dataset_train = CIFAR10(root=\"./data\", train=True, download=True, transform=train_transform)\n",
    "        dataset_valid = CIFAR10(root=\"./data\", train=False, download=True, transform=valid_transform)\n",
    "    elif cls == \"cifar100\":\n",
    "        dataset_train = CIFAR100(root=\"./data\", train=True, download=True, transform=train_transform)\n",
    "        dataset_valid = CIFAR100(root=\"./data\", train=False, download=True, transform=valid_transform)\n",
    "    elif cls == \"mnist\":\n",
    "        dataset_train = MNIST(root=\"./data\", train=True, download=True, transform=train_transform)\n",
    "        dataset_valid = MNIST(root=\"./data\", train=False, download=True, transform=valid_transform)\n",
    "    else:\n",
    "        raise NotImplementedError # select dataset cls in get_dataset(cls: cifar10/cifar100/mnist)\n",
    "    return dataset_train, dataset_valid"
   ]
  },
  {
   "cell_type": "code",
   "execution_count": 8,
   "metadata": {},
   "outputs": [],
   "source": [
    "mnist_train, mnist_valid = get_dataset('mnist')"
   ]
  },
  {
   "cell_type": "code",
   "execution_count": 10,
   "metadata": {},
   "outputs": [
    {
     "data": {
      "text/plain": [
       "Dataset MNIST\n",
       "    Number of datapoints: 60000\n",
       "    Root location: ./data\n",
       "    Split: Train\n",
       "    StandardTransform\n",
       "Transform: Compose(\n",
       "               RandomCrop(size=(32, 32), padding=4)\n",
       "               RandomHorizontalFlip(p=0.5)\n",
       "               ToTensor()\n",
       "               Normalize(mean=[0.49139968, 0.48215827, 0.44653124], std=[0.24703233, 0.24348505, 0.26158768])\n",
       "           )"
      ]
     },
     "execution_count": 10,
     "metadata": {},
     "output_type": "execute_result"
    }
   ],
   "source": [
    "mnist_train"
   ]
  },
  {
   "cell_type": "code",
   "execution_count": 11,
   "metadata": {},
   "outputs": [
    {
     "data": {
      "text/plain": [
       "Dataset MNIST\n",
       "    Number of datapoints: 10000\n",
       "    Root location: ./data\n",
       "    Split: Test\n",
       "    StandardTransform\n",
       "Transform: Compose(\n",
       "               ToTensor()\n",
       "               Normalize(mean=[0.49139968, 0.48215827, 0.44653124], std=[0.24703233, 0.24348505, 0.26158768])\n",
       "           )"
      ]
     },
     "execution_count": 11,
     "metadata": {},
     "output_type": "execute_result"
    }
   ],
   "source": [
    "mnist_valid"
   ]
  },
  {
   "cell_type": "code",
   "execution_count": 13,
   "metadata": {},
   "outputs": [
    {
     "name": "stdout",
     "output_type": "stream",
     "text": [
      " Том в устройстве C не имеет метки.\n",
      " Серийный номер тома: 6811-982C\n",
      "\n",
      " Содержимое папки C:\\Users\\Dronz\\Jupyter\\PENAS\\HENAS\n",
      "\n",
      "23.11.2020  21:07    <DIR>          .\n",
      "23.11.2020  21:07    <DIR>          ..\n",
      "23.11.2020  20:23    <DIR>          .ipynb_checkpoints\n",
      "23.11.2020  20:44    <DIR>          data\n",
      "01.11.2020  16:55    <DIR>          docs\n",
      "01.11.2020  16:25    <DIR>          enas_tf\n",
      "01.11.2020  16:26    <DIR>          henas\n",
      "23.11.2020  21:07             6 956 henas.ipynb\n",
      "08.11.2020  16:01    <DIR>          library\n",
      "01.11.2020  16:26    <DIR>          plnas\n",
      "08.11.2020  14:42               163 README.md\n",
      "01.11.2020  14:40               287 requirements.txt\n",
      "08.11.2020  16:01    <DIR>          search_space_zoo\n",
      "25.10.2020  15:22                 0 __init__.py\n",
      "               4 файлов          7 406 байт\n",
      "              10 папок  113 168 064 512 байт свободно\n"
     ]
    }
   ],
   "source": [
    "!dir"
   ]
  },
  {
   "cell_type": "code",
   "execution_count": 22,
   "metadata": {},
   "outputs": [
    {
     "name": "stderr",
     "output_type": "stream",
     "text": [
      "Traceback (most recent call last):\n",
      "  File \"plnas/main.py\", line 6, in <module>\n",
      "    import datasets\n",
      "ModuleNotFoundError: No module named 'datasets'\n"
     ]
    }
   ],
   "source": [
    "!python plnas/main.py '"
   ]
  },
  {
   "cell_type": "code",
   "execution_count": null,
   "metadata": {},
   "outputs": [],
   "source": []
  },
  {
   "cell_type": "code",
   "execution_count": null,
   "metadata": {},
   "outputs": [],
   "source": []
  },
  {
   "cell_type": "code",
   "execution_count": null,
   "metadata": {},
   "outputs": [],
   "source": []
  },
  {
   "cell_type": "code",
   "execution_count": null,
   "metadata": {},
   "outputs": [],
   "source": []
  }
 ],
 "metadata": {
  "kernelspec": {
   "display_name": "Python 3",
   "language": "python",
   "name": "python3"
  },
  "language_info": {
   "codemirror_mode": {
    "name": "ipython",
    "version": 3
   },
   "file_extension": ".py",
   "mimetype": "text/x-python",
   "name": "python",
   "nbconvert_exporter": "python",
   "pygments_lexer": "ipython3",
   "version": "3.7.7"
  }
 },
 "nbformat": 4,
 "nbformat_minor": 4
}
